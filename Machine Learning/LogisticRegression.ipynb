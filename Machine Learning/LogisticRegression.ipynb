{
  "nbformat": 4,
  "nbformat_minor": 0,
  "metadata": {
    "colab": {
      "provenance": [],
      "mount_file_id": "1oWH4S1-0f07Z5deAEd14oI5MmSusTOyD",
      "authorship_tag": "ABX9TyNZ5qX1V0e5oX2Y2Lk7GUHy"
    },
    "kernelspec": {
      "name": "python3",
      "display_name": "Python 3"
    },
    "language_info": {
      "name": "python"
    }
  },
  "cells": [
    {
      "cell_type": "code",
      "execution_count": 5,
      "metadata": {
        "colab": {
          "base_uri": "https://localhost:8080/"
        },
        "id": "ZU0NTqelOUeb",
        "outputId": "7a0d8922-05c1-4423-89d5-4f94a64639a1"
      },
      "outputs": [
        {
          "output_type": "stream",
          "name": "stdout",
          "text": [
            "Best Parameters: {'C': 0.1, 'multi_class': 'multinomial', 'solver': 'lbfgs'}\n",
            "Best Score: 2.3994616489206293\n"
          ]
        }
      ],
      "source": [
        "# 데이터 전처리\n",
        "import pandas as pd\n",
        "\n",
        "# 기계학습 모델\n",
        "from sklearn.model_selection import train_test_split, GridSearchCV\n",
        "from sklearn.linear_model import LogisticRegression\n",
        "from sklearn.impute import SimpleImputer\n",
        "from sklearn.metrics import accuracy_score, f1_score, make_scorer\n",
        "\n",
        "# 데이터 가져오기\n",
        "train_data = pd.read_csv('data_train.csv')\n",
        "test_data = pd.read_csv('data_test.csv')\n",
        "\n",
        "# 타겟 변수 분할\n",
        "X = train_data.drop('weather label', axis=1)\n",
        "y = train_data['weather label']\n",
        "\n",
        "# 결측치 처리\n",
        "imputer = SimpleImputer(strategy='mean')\n",
        "X_imputed = imputer.fit_transform(X)\n",
        "X_test_imputed = imputer.transform(test_data)\n",
        "\n",
        "# 검증할 데이터 분할\n",
        "X_train, X_val, y_train, y_val = train_test_split(X_imputed, y, test_size=0.2, random_state=42)\n",
        "\n",
        "# 그리드 서치 파라미터 설정\n",
        "param_grid = {\n",
        "    'C': [0.01, 0.1, 1, 10, 100],\n",
        "    'solver': ['lbfgs', 'newton-cg', 'sag', 'saga'],\n",
        "    'multi_class': ['multinomial']\n",
        "}\n",
        "\n",
        "# 로지스틱 회귀 모델 초기화\n",
        "lr_model = LogisticRegression(max_iter=10000, random_state=42)\n",
        "\n",
        "# 정의한 성능평가 지표\n",
        "custom_scorer = make_scorer(lambda y_true, y_pred: accuracy_score(y_true, y_pred) + 2 * f1_score(y_true, y_pred, average='weighted'), greater_is_better=True)\n",
        "\n",
        "# 그리드 서치 설정 - 3-fold 교차검증\n",
        "grid_search = GridSearchCV(estimator=lr_model, param_grid=param_grid, scoring=custom_scorer, cv=3, n_jobs=-1)\n",
        "\n",
        "# 그리드 서치 fit\n",
        "grid_search.fit(X_train, y_train)\n",
        "\n",
        "# 가장 좋은 파라미터와 점수\n",
        "best_params = grid_search.best_params_\n",
        "best_score = grid_search.best_score_\n",
        "\n",
        "# 점수들 확인\n",
        "print(\"Best Parameters:\", best_params)\n",
        "print(\"Best Score:\", best_score)\n",
        "\n",
        "# 모델 학습\n",
        "best_lr_model = LogisticRegression(**best_params, max_iter=10000, random_state=42)\n",
        "best_lr_model.fit(X_train, y_train)\n",
        "\n",
        "# 테스트 데이터 예측\n",
        "y_test_pred = best_lr_model.predict(X_test_imputed)\n",
        "\n",
        "# csv파일로 저장\n",
        "submission_file = pd.DataFrame(y_test_pred, columns=['Predicted Label'])\n",
        "submission_file.to_csv('2020.csv', index=False, header=False)\n"
      ]
    }
  ]
}
